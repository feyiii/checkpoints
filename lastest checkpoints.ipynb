{
 "cells": [
  {
   "cell_type": "code",
   "execution_count": 1,
   "id": "07099cf2",
   "metadata": {},
   "outputs": [
    {
     "name": "stdout",
     "output_type": "stream",
     "text": [
      "35\n"
     ]
    }
   ],
   "source": [
    "#Write a Python function to find the Max of three numbers\n",
    "\n",
    "num = [20, 35, 19]\n",
    "print(max(num))"
   ]
  },
  {
   "cell_type": "code",
   "execution_count": 2,
   "id": "9da3a9a1",
   "metadata": {},
   "outputs": [
    {
     "name": "stdout",
     "output_type": "stream",
     "text": [
      "(50, 30)\n"
     ]
    }
   ],
   "source": [
    "# Write a function calculation() such that it can accept two variables and calculate the addition and subtraction of it. \n",
    "# And also it must return both addition and subtraction in a single return call\n",
    "\n",
    "def basicArithmetic(a, b):\n",
    "    sum = a + b\n",
    "    difference = a - b\n",
    "    \n",
    "    return sum,difference\n",
    "\n",
    "print(basicArithmetic(40, 10))"
   ]
  },
  {
   "cell_type": "code",
   "execution_count": 2,
   "id": "65854ad6",
   "metadata": {
    "scrolled": true
   },
   "outputs": [
    {
     "name": "stdout",
     "output_type": "stream",
     "text": [
      "15\n",
      "120\n"
     ]
    }
   ],
   "source": [
    "#  Write a function that sums the elements of a list of integers.\n",
    "#  Write a function that multiplies the elements of an integer list.\n",
    "#  Use the two functions to sum the elements whose position is an even number (0,2,4…) and multiply the rest.\n",
    "# Hint: Consider extracting two lists from a first list \n",
    "\n",
    "mylist1=[1,2,3,4,5]\n",
    "\n",
    "total=0\n",
    "for i in mylist1:\n",
    "    total+=i\n",
    "    \n",
    "print (total)\n",
    "\n",
    "mylist2=[1*2*3*4*5]\n",
    "total=1\n",
    "for i in mylist2:\n",
    "    total*=i\n",
    "    \n",
    "print (total)"
   ]
  },
  {
   "cell_type": "code",
   "execution_count": null,
   "id": "700a5dda",
   "metadata": {},
   "outputs": [],
   "source": [
    "# Write a Python program that accepts a hyphen-separated sequence of words as input and prints the words in a hyphen-separated sequence after sorting them alphabetically.\n",
    "\n",
    "lists=[a for a in input().split('-')]\n",
    "lists.sort()\n",
    "print('-'.join(lists))"
   ]
  },
  {
   "cell_type": "code",
   "execution_count": null,
   "id": "846343e2",
   "metadata": {},
   "outputs": [],
   "source": [
    "# Write a function that calculates and prints the value according to the given formula: Q = Square root of [(2 * C * D)/H] Following are the fixed values of C and H: C is 50. H is 30. D is the variable whose values should be input to your program in a comma-separated sequence. Example Let us assume the following comma separated input sequence is given to the function: 100,150,180 The output of the program should be: 18,22,24 \n",
    "# Hints: If the output received is in decimal form, it should be rounded off to its nearest value (for example, if the output received is 26.0, it should be printed as 26) In case of input data being supplied to the question, it should be assumed to be a console input. \n",
    " \n",
    "import math\n",
    "\n",
    "c = 50\n",
    "h = 30\n",
    "\n",
    "value =[]\n",
    "items=[a for a in input().split(',')]\n",
    "for d in items:\n",
    "    value.append(str(int(round(math.sqrt(2*c*float(d)/h)))))\n",
    "print(','.join(value))"
   ]
  },
  {
   "cell_type": "code",
   "execution_count": null,
   "id": "1c900b60",
   "metadata": {},
   "outputs": [],
   "source": []
  }
 ],
 "metadata": {
  "kernelspec": {
   "display_name": "Python 3 (ipykernel)",
   "language": "python",
   "name": "python3"
  },
  "language_info": {
   "codemirror_mode": {
    "name": "ipython",
    "version": 3
   },
   "file_extension": ".py",
   "mimetype": "text/x-python",
   "name": "python",
   "nbconvert_exporter": "python",
   "pygments_lexer": "ipython3",
   "version": "3.9.7"
  }
 },
 "nbformat": 4,
 "nbformat_minor": 5
}
